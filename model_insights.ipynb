{
 "cells": [
  {
   "cell_type": "code",
   "execution_count": 1,
   "metadata": {},
   "outputs": [],
   "source": [
    "EXPERIMENTS = [\n",
    "    # \"none-default=none-META=25-metric=[harmonic_mean_recall_2]\",\n",
    "    # \"weighting-default=weighting-META=25-metric=[harmonic_mean_recall_2]\",\n",
    "    # \"SVMSMOTE-default=SVMSMOTE-META=25-metric=[harmonic_mean_recall_2]\",\n",
    "\n",
    "    # \"RF\",\n",
    "    # \"SVMSMOTE+RF\",\n",
    "    # \"weighting+RF\",\n",
    "\n",
    "    # \"SVMSMOTE-default=SVMSMOTE-META=25-sampling_strategy=False\",\n",
    "    # \"none-default=none-META=25\",\n",
    "    # \"weighting-default=weighting-META=25\",\n",
    "    # \"SVMSMOTE-default=SVMSMOTE-META=25\",\n",
    "\n",
    "    # \"none-default=none-META=25-callback\",\n",
    "    # \"weighting-default=weighting-META=25-callback\",\n",
    "    # \"SVMSMOTE-default=SVMSMOTE-META=25-callback\",\n",
    "\n",
    "    \"all_SMOTE_like+weighting+none-default=SVMSMOTE-META=25\",\n",
    "    # \"weighting+none-default=weighting-META=25\",\n",
    "    # \"BorderlineSMOTE+weighting+none-default=BorderlineSMOTE-META=25\",\n",
    "    # \"SMOTETomek+weighting+none-default=weighting-META=25\",\n",
    "    # \"SMOTEENN+weighting+none-default=weighting-META=25\",\n",
    "    # \"ADASYN+weighting+none-default=weighting-META=25\",\n",
    "    # \"SMOTE+weighting+none-default=weighting-META=25\",\n",
    "    # \"SVMSMOTE+weighting+none-default=SVMSMOTE-META=25\",\n",
    "]"
   ]
  },
  {
   "cell_type": "code",
   "execution_count": 19,
   "metadata": {},
   "outputs": [
    {
     "name": "stdout",
     "output_type": "stream",
     "text": [
      "Counter({('NoPreprocessing',): 0.31257142857142856, ('Weighting',): 0.2074285714285714, ('SVMSMOTE',): 0.18, ('BorderlineSMOTE',): 0.10514285714285719, ('SMOTEENN',): 0.06228571428571429, ('SMOTE',): 0.04628571428571429, ('SMOTETomek',): 0.04628571428571429, ('ADASYN',): 0.04000000000000001})\n"
     ]
    }
   ],
   "source": [
    "from file_loader import get_models\n",
    "from datasets import get_datasets\n",
    "from collections import defaultdict, Counter\n",
    "from tabulate import tabulate\n",
    "\n",
    "import sys\n",
    "sys.path.insert(0, \"../my_autosklearn\")\n",
    "\n",
    "def stop_after_100_configurations_callback(smbo, run_info, result, time_left):\n",
    "    return sum(\"SUCCESS\" in str(val.status) for val in smbo.runhistory.data.values()) <= 116\n",
    "\n",
    "c = Counter()\n",
    "preps = ['NoPreprocessing','Weighting','SVMSMOTE','BorderlineSMOTE','SMOTEENN','SMOTE','SMOTETomek', 'ADASYN',]\n",
    "for model, dataset_name, ratio, experiment_name in get_models(get_datasets(), EXPERIMENTS):\n",
    "    try:\n",
    "        ensemble = model.show_models().values()\n",
    "    except:\n",
    "        continue\n",
    "\n",
    "    a = Counter()\n",
    "    for m in ensemble:\n",
    "        preproc = str(m[\"balancing\"]).split(\"(\")[0]\n",
    "        #clf = str(m[\"classifier\"]).split(\"(\")[0]\n",
    "        a[(preproc, )] += m[\"ensemble_weight\"]\n",
    "    \n",
    "    for preproc in preps:\n",
    "        c[preproc, ] += a[(preproc, )] + 1j\n",
    "\n",
    "for (preproc, ), w in c.items():\n",
    "    c[preproc, ] = w.real / w.imag\n",
    "print(c)"
   ]
  },
  {
   "cell_type": "code",
   "execution_count": 3,
   "metadata": {},
   "outputs": [
    {
     "name": "stdout",
     "output_type": "stream",
     "text": [
      "                              SVMSMOTE    NoPreprocessing    Weighting    SMOTETomek    SMOTEENN    BorderlineSMOTE    SMOTE    ADASYN\n",
      "--------------------------  ----------  -----------------  -----------  ------------  ----------  -----------------  -------  --------\n",
      "RandomForest                         1                  1            1             1           1                  1        1         1\n",
      "ExtraTreesClassifier                 1                  1            1             1           1                  1        1         1\n",
      "SGD                                  1                  1            1             1           1                  1        1         1\n",
      "LDA                                  1                  0            1             1           1                  1        1         1\n",
      "GradientBoostingClassifier           1                  1            1             1           1                  1        0         1\n",
      "PassiveAggressive                    1                  1            1             1           1                  0        1         1\n",
      "LibLinear_SVC                        1                  1            1             1           0                  1        1         1\n",
      "QDA                                  1                  1            1             1           0                  1        1         0\n",
      "MLPClassifier                        1                  1            1             0           1                  1        0         1\n",
      "AdaboostClassifier                   0                  1            1             0           1                  0        0         0\n",
      "GaussianNB                           1                  0            0             0           0                  0        1         0\n",
      "BernoulliNB                          1                  0            0             0           0                  0        0         0\n",
      "MultinomialNB                        0                  0            0             1           0                  0        0         0\n",
      "LibSVM_SVC                           0                  1            0             0           0                  0        0         0\n"
     ]
    }
   ],
   "source": [
    "# def f(n):\n",
    "#     return int(n.imag)\n",
    "#     if n.imag == 0:\n",
    "#         return 0\n",
    "#     return n.real / n.imag\n",
    "# ctr = c\n",
    "# preps = list({a for a, _ in ctr})\n",
    "# clfs = list({b for _, b in ctr})\n",
    "# preps = sorted(preps, key=lambda p: -sum(f(ctr[(p, clf)]) for clf in clfs))\n",
    "# clfs = sorted(clfs, key=lambda clf: -sum(f(ctr[(p, clf)]) for p in preps))\n",
    "# table = [[clf] + [f(ctr[(p, clf)]) for p in preps] for clf in clfs]\n",
    "# header = preps\n",
    "\n",
    "# print(tabulate(table, header))\n"
   ]
  },
  {
   "cell_type": "code",
   "execution_count": 33,
   "metadata": {},
   "outputs": [
    {
     "name": "stdout",
     "output_type": "stream",
     "text": [
      "1.0\n"
     ]
    }
   ],
   "source": [
    "ctr = c\n",
    "preps = sorted({a for a, in ctr}, key=lambda i: -ctr[(i, )])\n",
    "\n",
    "table = [[\"average ensemble weight\"] + [f\"{ctr[p, ]:.2f}\" for p in preps]]\n",
    "print(sum(ctr.values()))"
   ]
  },
  {
   "cell_type": "code",
   "execution_count": 35,
   "metadata": {},
   "outputs": [
    {
     "data": {
      "image/png": "[encoded data removed]",
      "text/plain": [
       "<Figure size 1500x400 with 1 Axes>"
      ]
     },
     "metadata": {},
     "output_type": "display_data"
    }
   ],
   "source": [
    "# Optionally, save the table as an image or export it\n",
    "import matplotlib.pyplot as plt\n",
    "import pandas as pd\n",
    "\n",
    "# Convert to DataFrame for better presentation\n",
    "df = pd.DataFrame(table, columns=[\"\"]+preps)\n",
    "\n",
    "# Plotting the table\n",
    "fig, ax = plt.subplots(figsize=(15, 4))  # set size frame\n",
    "ax.axis('tight')\n",
    "ax.axis('off')\n",
    "x = [0.15, 0.10, 0.08, 0.07, 0.10, 0.07, 0.08, 0.05, 0.06]\n",
    "the_table = ax.table(cellText=df.values, colLabels=df.columns, cellLoc='center', loc='center', colColours=['lightgrey']*df.shape[1], colWidths=x)\n",
    "\n",
    "\n",
    "# Style the table\n",
    "the_table.auto_set_font_size(False)\n",
    "the_table.set_fontsize(10)\n",
    "the_table.scale(1.2, 1.2)\n",
    "\n",
    "# Save the table as an image file\n",
    "plt.savefig(\"pretty_table.png\", bbox_inches='tight', dpi=300)\n",
    "plt.show()"
   ]
  },
  {
   "cell_type": "code",
   "execution_count": 5,
   "metadata": {},
   "outputs": [
    {
     "name": "stdout",
     "output_type": "stream",
     "text": [
      "['all_SMOTE_like+weighting+none-default=SVMSMOTE-META=25']\n"
     ]
    }
   ],
   "source": [
    "print(EXPERIMENTS)\n",
    "\n",
    "def print_table_pdf(table, header, size):\n",
    "    assert len(header) == len(size), f\"header: {len(header)}, size: {len(size)}\"\n",
    "    print(\"\\\\begin{tabular}{|p{\" + str(size[0]) + \"cm}||\", end=\"\")\n",
    "    # print(\"p{2.5cm}|p{2.0cm}|p{3.0cm}|p{2.0cm}\", end=\"\")\n",
    "    print(\"|\".join(f\"p{{{s}cm}}\" for s in size[1:]), end=\"\")\n",
    "    print(\"|}\")\n",
    "    print(\"\\\\hline\")\n",
    "    print(\"&\".join(header).replace(\"_\", \"\\\\_\").replace(\"#\", \"\\\\#\") + \"\\\\\\\\\")\n",
    "    print(\"\\\\hline\")\n",
    "    for line in table:\n",
    "        print(\"&\".join(str(e) for e in line) + \"\\\\\\\\\")\n",
    "    print(\"\\\\hline\")\n",
    "    print(\"\\\\end{tabular}\")"
   ]
  },
  {
   "cell_type": "code",
   "execution_count": 6,
   "metadata": {},
   "outputs": [
    {
     "ename": "AttributeError",
     "evalue": "'list' object has no attribute 'items'",
     "output_type": "error",
     "traceback": [
      "\u001b[0;31m---------------------------------------------------------------------------\u001b[0m",
      "\u001b[0;31mAttributeError\u001b[0m                            Traceback (most recent call last)",
      "Cell \u001b[0;32mIn[6], line 2\u001b[0m\n\u001b[1;32m      1\u001b[0m new \u001b[38;5;241m=\u001b[39m []\n\u001b[0;32m----> 2\u001b[0m \u001b[38;5;28;01mfor\u001b[39;00m (dataset_name, ratio), lst \u001b[38;5;129;01min\u001b[39;00m \u001b[43mtable\u001b[49m\u001b[38;5;241;43m.\u001b[39;49m\u001b[43mitems\u001b[49m():\n\u001b[1;32m      3\u001b[0m     \u001b[38;5;66;03m# i == tuple(SUCCESS, TIMEOUT, CRASHED)\u001b[39;00m\n\u001b[1;32m      4\u001b[0m     new\u001b[38;5;241m.\u001b[39mappend([dataset_name, \u001b[38;5;124mf\u001b[39m\u001b[38;5;124m\"\u001b[39m\u001b[38;5;132;01m{\u001b[39;00m\u001b[38;5;241m1\u001b[39m\u001b[38;5;241m/\u001b[39mratio\u001b[38;5;132;01m:\u001b[39;00m\u001b[38;5;124m.2f\u001b[39m\u001b[38;5;132;01m}\u001b[39;00m\u001b[38;5;124m\"\u001b[39m, \u001b[38;5;241m*\u001b[39m[i[\u001b[38;5;241m0\u001b[39m] \u001b[38;5;28;01mfor\u001b[39;00m i \u001b[38;5;129;01min\u001b[39;00m lst]])\n\u001b[1;32m      6\u001b[0m \u001b[38;5;28mprint\u001b[39m(tabulate(new))\n",
      "\u001b[0;31mAttributeError\u001b[0m: 'list' object has no attribute 'items'"
     ]
    }
   ],
   "source": [
    "new = []\n",
    "for (dataset_name, ratio), lst in table.items():\n",
    "    # i == tuple(SUCCESS, TIMEOUT, CRASHED)\n",
    "    new.append([dataset_name, f\"{1/ratio:.2f}\", *[i[0] for i in lst]])\n",
    "\n",
    "print(tabulate(new))"
   ]
  },
  {
   "cell_type": "code",
   "execution_count": null,
   "metadata": {},
   "outputs": [
    {
     "name": "stdout",
     "output_type": "stream",
     "text": [
      "------------------------------------------  ---------  -  -  --------\n",
      "diabetes(id=37)                             0.536      0  0  0.854355\n",
      "diabetes(id=37)                             0.15       0  0  0.510418\n",
      "diabetes(id=37)                             0.1        0  0  0.468163\n",
      "diabetes(id=37)                             0.05       0  0  0.484603\n",
      "pc3(id=1050)                                0.114041   0  0  0.381643\n",
      "pc3(id=1050)                                0.1        0  0  0.415751\n",
      "pc3(id=1050)                                0.05       0  0  0.463828\n",
      "JM1(id=1053)                                0.239604   0  0  0.509741\n",
      "JM1(id=1053)                                0.15       0  0  0.596594\n",
      "JM1(id=1053)                                0.1        0  0  0.419808\n",
      "JM1(id=1053)                                0.05       0  0  0.298191\n",
      "KC2(id=1063)                                0.257831   0  0  0.75125\n",
      "KC2(id=1063)                                0.15       0  0  0.505524\n",
      "KC2(id=1063)                                0.1        0  0  0.6616\n",
      "KC2(id=1063)                                0.05       0  0  0.486297\n",
      "kc1(id=1067)                                0.182838   0  0  0.607113\n",
      "kc1(id=1067)                                0.15       0  0  0.583531\n",
      "kc1(id=1067)                                0.1        0  0  0.360588\n",
      "kc1(id=1067)                                0.05       0  0  0.235637\n",
      "pc1(id=1068)                                0.0746124  0  0  0.80095\n",
      "pc1(id=1068)                                0.05       0  0  0.37113\n",
      "blood-transfusion-service-center(id=1464)   0.312281   0  0  0.792135\n",
      "blood-transfusion-service-center(id=1464)   0.15       0  0  0.585729\n",
      "blood-transfusion-service-center(id=1464)   0.1        0  0  0.776833\n",
      "blood-transfusion-service-center(id=1464)   0.05       0  0  0.408856\n",
      "madelon(id=1485)                            1          0  0  0.999993\n",
      "madelon(id=1485)                            0.15       0  0  0.73048\n",
      "madelon(id=1485)                            0.1        0  0  0.695805\n",
      "madelon(id=1485)                            0.05       0  0  0.798263\n",
      "ozone-level-8hr(id=1487)                    0.0673968  0  0  0.403082\n",
      "ozone-level-8hr(id=1487)                    0.05       0  0  0.658027\n",
      "qsar-biodeg(id=1494)                        0.509299   0  0  0.840136\n",
      "qsar-biodeg(id=1494)                        0.15       0  0  0.718701\n",
      "qsar-biodeg(id=1494)                        0.1        0  0  0.729788\n",
      "qsar-biodeg(id=1494)                        0.05       0  0  0.698004\n",
      "Bioresponse(id=4134)                        0.844149   0  0  0.968961\n",
      "Bioresponse(id=4134)                        0.15       0  0  0.512284\n",
      "Bioresponse(id=4134)                        0.1        0  0  0.822403\n",
      "Bioresponse(id=4134)                        0.05       0  0  0.493806\n",
      "climate-model-simulation-crashes(id=40994)  0.0931174  0  0  0.264205\n",
      "climate-model-simulation-crashes(id=40994)  0.05       0  0  0.185479\n",
      "------------------------------------------  ---------  -  -  --------\n"
     ]
    }
   ],
   "source": [
    "\n",
    "new = []\n",
    "for (dataset_name, ratio), lst in table2.items():\n",
    "    new.append([dataset_name, ratio, *lst])\n",
    "\n",
    "print(tabulate(new))"
   ]
  },
  {
   "cell_type": "code",
   "execution_count": null,
   "metadata": {},
   "outputs": [
    {
     "name": "stdout",
     "output_type": "stream",
     "text": [
      "\\begin{tabular}{|p{1cm}||p{1cm}|p{1cm}|p{1cm}|p{1cm}|}\n",
      "\\hline\n",
      "name&IR&none-default=none-META=25-callback&weighting-default=weighting-META=25-callback&SVMSMOTE-default=SVMSMOTE-META=25-callback\\\\\n",
      "\\hline\n",
      "madelon(id=1485)&1.00&95.18/2&96.01/1&94.88/3\\\\\n",
      "Bioresponse(id=4134)&1.18&88.12/2&88.14/1&88.11/3\\\\\n",
      "diabetes(id=37)&1.87&83.77/2&84.10/1&83.73/3\\\\\n",
      "qsar-biodeg(id=1494)&1.96&93.38/3&93.95/1&93.48/2\\\\\n",
      "blood-transfusion-service-center(id=1464)&3.20&75.80/2&76.54/1&75.72/3\\\\\n",
      "KC2(id=1063)&3.88&85.59/1&84.35/3&84.87/2\\\\\n",
      "JM1(id=1053)&4.17&77.03/1&76.04/3&76.06/2\\\\\n",
      "kc1(id=1067)&5.47&83.40/1&81.51/3&82.84/2\\\\\n",
      "diabetes(id=37)&6.67&85.25/3&85.56/1&85.53/2\\\\\n",
      "JM1(id=1053)&6.67&72.14/2&72.56/1&72.08/3\\\\\n",
      "KC2(id=1063)&6.67&88.51/2&88.62/1&88.09/3\\\\\n",
      "kc1(id=1067)&6.67&80.37/1&80.30/2&80.08/3\\\\\n",
      "blood-transfusion-service-center(id=1464)&6.67&75.39/2&74.75/3&75.48/1\\\\\n",
      "madelon(id=1485)&6.67&80.42/2&81.45/1&77.04/3\\\\\n",
      "qsar-biodeg(id=1494)&6.67&93.47/1&92.81/3&92.86/2\\\\\n",
      "Bioresponse(id=4134)&6.67&86.23/1&86.17/2&85.79/3\\\\\n",
      "pc3(id=1050)&8.77&86.00/2&86.13/1&85.55/3\\\\\n",
      "diabetes(id=37)&10.00&84.92/2&85.46/1&84.57/3\\\\\n",
      "pc3(id=1050)&10.00&86.87/1&86.51/2&86.17/3\\\\\n",
      "JM1(id=1053)&10.00&75.21/1&74.40/3&74.42/2\\\\\n",
      "KC2(id=1063)&10.00&87.38/1&87.06/2&86.49/3\\\\\n",
      "kc1(id=1067)&10.00&81.58/2&81.14/3&82.49/1\\\\\n",
      "blood-transfusion-service-center(id=1464)&10.00&78.20/1&77.93/3&78.03/2\\\\\n",
      "madelon(id=1485)&10.00&77.43/1&75.45/2&69.61/3\\\\\n",
      "qsar-biodeg(id=1494)&10.00&89.91/3&90.57/2&90.67/1\\\\\n",
      "Bioresponse(id=4134)&10.00&86.97/1&86.55/2&86.34/3\\\\\n",
      "climate-model-simulation-crashes(id=40994)&10.74&96.50/1&96.08/2&95.99/3\\\\\n",
      "pc1(id=1068)&13.40&91.10/2&91.14/1&89.12/3\\\\\n",
      "ozone-level-8hr(id=1487)&14.84&92.78/1&91.90/3&92.23/2\\\\\n",
      "diabetes(id=37)&20.00&82.16/1&81.84/2&79.58/3\\\\\n",
      "pc3(id=1050)&20.00&85.46/2&86.33/1&85.08/3\\\\\n",
      "JM1(id=1053)&20.00&76.49/1&75.20/3&75.88/2\\\\\n",
      "KC2(id=1063)&20.00&88.19/1&85.90/3&87.02/2\\\\\n",
      "kc1(id=1067)&20.00&81.34/2&81.31/3&81.51/1\\\\\n",
      "pc1(id=1068)&20.00&84.91/2&85.03/1&84.09/3\\\\\n",
      "blood-transfusion-service-center(id=1464)&20.00&77.80/1&77.40/2&76.52/3\\\\\n",
      "madelon(id=1485)&20.00&67.34/2&69.51/1&62.91/3\\\\\n",
      "ozone-level-8hr(id=1487)&20.00&91.12/2&90.99/3&91.14/1\\\\\n",
      "qsar-biodeg(id=1494)&20.00&86.75/1&85.43/3&86.71/2\\\\\n",
      "Bioresponse(id=4134)&20.00&83.84/2&83.78/3&84.98/1\\\\\n",
      "climate-model-simulation-crashes(id=40994)&20.00&94.95/2&95.04/1&94.93/3\\\\\n",
      "&&84.3720&84.1693&83.6261\\\\\n",
      "&&85.2500&85.4300&84.9800\\\\\n",
      "&&1.6098&1.9756&2.4146\\\\\n",
      "\\hline\n",
      "\\end{tabular}\n"
     ]
    }
   ],
   "source": [
    "new = []\n",
    "new2 = []\n",
    "for (dataset_name, ratio), lst in table3.items():\n",
    "    lst = [round(n, 4) for n in lst]\n",
    "    assert lst[0] != lst[1] and lst[1] != lst[2] and lst[0] != lst[2]\n",
    "    lst = [(j, i) for i, j in enumerate(lst)]\n",
    "    lst.sort(reverse=True)\n",
    "    new_lst = [0, 0, 0]\n",
    "    new2.append([0, 0, 0])\n",
    "    for rank, (val, i) in enumerate(lst, start=1):\n",
    "        new_lst[i] = f\"{100*val:.2f}/{rank}\"\n",
    "        new2[-1][i] = (val, rank)\n",
    "    new.append([dataset_name, f\"{1/ratio:.2f}\", *new_lst])\n",
    "\n",
    "new.sort(key=lambda i: float(i[1]))\n",
    "\n",
    "scores = [], [], []\n",
    "ranks = [], [], []\n",
    "for (a1, b1), (a2, b2), (a3, b3) in new2:\n",
    "    scores[0].append(a1)\n",
    "    scores[1].append(a2)\n",
    "    scores[2].append(a3)\n",
    "    ranks[0].append(b1)\n",
    "    ranks[1].append(b2)\n",
    "    ranks[2].append(b3)\n",
    "\n",
    "from metrics import mean, med\n",
    "\n",
    "new.append((\"\", \"\", *[f\"{100*mean(s):.4f}\" for s in scores]))\n",
    "new.append((\"\", \"\", *[f\"{100*med(s):.4f}\" for s in scores]))\n",
    "new.append((\"\", \"\", *[f\"{mean(s):.4f}\" for s in ranks]))\n",
    "\n",
    "\n",
    "def print_table_pdf(table, header, size):\n",
    "    assert len(header) == len(size), f\"header: {len(header)}, size: {len(size)}\"\n",
    "    print(\"\\\\begin{tabular}{|p{\" + str(size[0]) + \"cm}||\", end=\"\")\n",
    "    # print(\"p{2.5cm}|p{2.0cm}|p{3.0cm}|p{2.0cm}\", end=\"\")\n",
    "    print(\"|\".join(f\"p{{{s}cm}}\" for s in size[1:]), end=\"\")\n",
    "    print(\"|}\")\n",
    "    print(\"\\\\hline\")\n",
    "    print(\"&\".join(header).replace(\"_\", \"\\\\_\").replace(\"#\", \"\\\\#\") + \"\\\\\\\\\")\n",
    "    print(\"\\\\hline\")\n",
    "    for line in table:\n",
    "        print(\"&\".join(str(e) for e in line) + \"\\\\\\\\\")\n",
    "    print(\"\\\\hline\")\n",
    "    print(\"\\\\end{tabular}\")\n",
    "\n",
    "\n",
    "print_table_pdf(new, [\"name\", \"IR\"] + EXPERIMENTS, [1]*5)\n"
   ]
  }
 ],
 "metadata": {
  "kernelspec": {
   "display_name": "venv",
   "language": "python",
   "name": "python3"
  },
  "language_info": {
   "codemirror_mode": {
    "name": "ipython",
    "version": 3
   },
   "file_extension": ".py",
   "mimetype": "text/x-python",
   "name": "python",
   "nbconvert_exporter": "python",
   "pygments_lexer": "ipython3",
   "version": "3.10.12"
  }
 },
 "nbformat": 4,
 "nbformat_minor": 2
}
